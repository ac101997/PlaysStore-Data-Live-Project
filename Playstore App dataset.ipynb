{
 "cells": [
  {
   "cell_type": "markdown",
   "id": "61d1cc8a",
   "metadata": {},
   "source": [
    "# Importing Libraries"
   ]
  },
  {
   "cell_type": "code",
   "execution_count": 1,
   "id": "c52be283",
   "metadata": {},
   "outputs": [],
   "source": [
    "import numpy as np\n",
    "import pandas as pd\n",
    "import matplotlib.pyplot as plt"
   ]
  },
  {
   "cell_type": "markdown",
   "id": "f12d7c50",
   "metadata": {},
   "source": [
    "# Loading Dataset"
   ]
  },
  {
   "cell_type": "code",
   "execution_count": 3,
   "id": "5be84f87",
   "metadata": {},
   "outputs": [],
   "source": [
    "df=pd.read_csv(r\"C:\\Users\\lenovo\\Desktop\\New folder (3)\\Project Session\\Linkedin project\\playstoreliveproj\\playstore_apps.csv\",index_col=\"App\")"
   ]
  },
  {
   "cell_type": "code",
   "execution_count": null,
   "id": "ce13d7c5",
   "metadata": {},
   "outputs": [],
   "source": [
    "df.head()"
   ]
  },
  {
   "cell_type": "code",
   "execution_count": null,
   "id": "6e5cae9e",
   "metadata": {},
   "outputs": [],
   "source": [
    "df.shape"
   ]
  },
  {
   "cell_type": "code",
   "execution_count": null,
   "id": "08b19782",
   "metadata": {},
   "outputs": [],
   "source": [
    "df.info()"
   ]
  },
  {
   "cell_type": "code",
   "execution_count": null,
   "id": "50407058",
   "metadata": {},
   "outputs": [],
   "source": [
    "df.isnull().sum()"
   ]
  },
  {
   "cell_type": "code",
   "execution_count": null,
   "id": "e4af7dcf",
   "metadata": {},
   "outputs": [],
   "source": [
    "df.boxplot()\n",
    "plt.show()"
   ]
  },
  {
   "cell_type": "code",
   "execution_count": null,
   "id": "aca77425",
   "metadata": {},
   "outputs": [],
   "source": [
    "df.drop_duplicates(keep=False,inplace=True)"
   ]
  },
  {
   "cell_type": "code",
   "execution_count": null,
   "id": "5136fb2e",
   "metadata": {},
   "outputs": [],
   "source": [
    "df.shape"
   ]
  },
  {
   "cell_type": "code",
   "execution_count": null,
   "id": "f1a18e8d",
   "metadata": {},
   "outputs": [],
   "source": [
    "df.info()"
   ]
  },
  {
   "cell_type": "code",
   "execution_count": null,
   "id": "55d89baf",
   "metadata": {},
   "outputs": [],
   "source": [
    "#Checking for unique values in Size Column"
   ]
  },
  {
   "cell_type": "code",
   "execution_count": null,
   "id": "dc9fcf0b",
   "metadata": {},
   "outputs": [],
   "source": [
    "df[\"Size\"].unique()"
   ]
  },
  {
   "cell_type": "code",
   "execution_count": null,
   "id": "c66374a7",
   "metadata": {},
   "outputs": [],
   "source": [
    "#Creating Function to convert all the sizes into one format"
   ]
  },
  {
   "cell_type": "code",
   "execution_count": null,
   "id": "e0ad2ef0",
   "metadata": {},
   "outputs": [],
   "source": [
    "def size_convert(size):\n",
    "    try:\n",
    "        if size.endswith(\"K\") or size.endswith(\"k\"):\n",
    "            return '%.2f' %(float(size[:-1])/1024)\n",
    "        elif size.endswith(\"M\") or size.endswith(\"m\"):\n",
    "            return float(size[:-1])\n",
    "        elif size==\"Varies with device\":\n",
    "            return size\n",
    "        else:\n",
    "            return np.nan\n",
    "    except:\n",
    "        return np.nan"
   ]
  },
  {
   "cell_type": "code",
   "execution_count": null,
   "id": "61bb3b98",
   "metadata": {},
   "outputs": [],
   "source": [
    "size_convert(\"Varies with device\")"
   ]
  },
  {
   "cell_type": "code",
   "execution_count": null,
   "id": "9c16d0e1",
   "metadata": {},
   "outputs": [],
   "source": [
    "#Conversion of Kb into Mb"
   ]
  },
  {
   "cell_type": "code",
   "execution_count": null,
   "id": "56d0f8e1",
   "metadata": {},
   "outputs": [],
   "source": [
    "df[\"Size\"]=df[\"Size\"].apply(size_convert)"
   ]
  },
  {
   "cell_type": "code",
   "execution_count": null,
   "id": "c0b1167f",
   "metadata": {},
   "outputs": [],
   "source": [
    "for i in df[\"Size\"].unique():\n",
    "    print(i)"
   ]
  },
  {
   "cell_type": "markdown",
   "id": "05da115e",
   "metadata": {},
   "source": [
    "**Moving on to Rating Column**"
   ]
  },
  {
   "cell_type": "code",
   "execution_count": null,
   "id": "a2274ce3",
   "metadata": {},
   "outputs": [],
   "source": [
    "df[\"Size\"].value_counts()"
   ]
  },
  {
   "cell_type": "code",
   "execution_count": null,
   "id": "a151f324",
   "metadata": {},
   "outputs": [],
   "source": [
    "df[\"Size\"].unique()"
   ]
  },
  {
   "cell_type": "code",
   "execution_count": null,
   "id": "ce877924",
   "metadata": {},
   "outputs": [],
   "source": [
    "df.info()"
   ]
  },
  {
   "cell_type": "code",
   "execution_count": null,
   "id": "366ac3a0",
   "metadata": {},
   "outputs": [],
   "source": [
    "df.isnull().sum()"
   ]
  },
  {
   "cell_type": "code",
   "execution_count": null,
   "id": "07b58a51",
   "metadata": {},
   "outputs": [],
   "source": [
    "#Checking For Outliers\n",
    "\n",
    "for i in df[\"Rating\"].unique():\n",
    "    print(i)"
   ]
  },
  {
   "cell_type": "markdown",
   "id": "52abb48d",
   "metadata": {},
   "source": [
    "**Removing the Outlier**"
   ]
  },
  {
   "cell_type": "code",
   "execution_count": null,
   "id": "edf12a29",
   "metadata": {},
   "outputs": [],
   "source": [
    "y=df[df[\"Rating\"]>5].index"
   ]
  },
  {
   "cell_type": "code",
   "execution_count": null,
   "id": "100a3cac",
   "metadata": {},
   "outputs": [],
   "source": [
    "df.drop(y,axis=0,inplace=True)"
   ]
  },
  {
   "cell_type": "code",
   "execution_count": null,
   "id": "20f9c165",
   "metadata": {},
   "outputs": [],
   "source": [
    "df.isnull().sum()"
   ]
  },
  {
   "cell_type": "markdown",
   "id": "00ebc4d2",
   "metadata": {},
   "source": [
    "**Missing values imputation in Rating**"
   ]
  },
  {
   "cell_type": "code",
   "execution_count": null,
   "id": "9a6b4b65",
   "metadata": {},
   "outputs": [],
   "source": [
    "df[\"Rating\"].fillna(0,inplace=True)"
   ]
  },
  {
   "cell_type": "code",
   "execution_count": null,
   "id": "58e6cfa9",
   "metadata": {},
   "outputs": [],
   "source": [
    "df[\"Rating\"].isnull().sum()"
   ]
  },
  {
   "cell_type": "code",
   "execution_count": null,
   "id": "64260ff5",
   "metadata": {},
   "outputs": [],
   "source": [
    "df[\"Rating\"].unique()"
   ]
  },
  {
   "cell_type": "code",
   "execution_count": null,
   "id": "18783ccf",
   "metadata": {},
   "outputs": [],
   "source": [
    "df[\"Rating\"].value_counts()"
   ]
  },
  {
   "cell_type": "markdown",
   "id": "47e5e588",
   "metadata": {},
   "source": [
    "**Moving to Type Column**"
   ]
  },
  {
   "cell_type": "code",
   "execution_count": null,
   "id": "eabff3bc",
   "metadata": {},
   "outputs": [],
   "source": [
    "df[\"Type\"].unique()"
   ]
  },
  {
   "cell_type": "code",
   "execution_count": null,
   "id": "6a2023a9",
   "metadata": {},
   "outputs": [],
   "source": [
    "df[df[\"Type\"].isnull()]"
   ]
  },
  {
   "cell_type": "code",
   "execution_count": null,
   "id": "1f4167eb",
   "metadata": {},
   "outputs": [],
   "source": [
    "df[\"Type\"].value_counts()"
   ]
  },
  {
   "cell_type": "code",
   "execution_count": null,
   "id": "82570b39",
   "metadata": {},
   "outputs": [],
   "source": [
    "df[\"Type\"].unique()"
   ]
  },
  {
   "cell_type": "code",
   "execution_count": null,
   "id": "3fadb0bf",
   "metadata": {},
   "outputs": [],
   "source": [
    "mode_type=df[\"Type\"].mode()[0]\n",
    "mode_type"
   ]
  },
  {
   "cell_type": "code",
   "execution_count": null,
   "id": "8cad0ee2",
   "metadata": {},
   "outputs": [],
   "source": [
    "#Imputing Nan Values with mode"
   ]
  },
  {
   "cell_type": "code",
   "execution_count": null,
   "id": "10866b52",
   "metadata": {},
   "outputs": [],
   "source": [
    "df[\"Type\"].fillna(mode_type,inplace=True)"
   ]
  },
  {
   "cell_type": "code",
   "execution_count": null,
   "id": "233219f7",
   "metadata": {},
   "outputs": [],
   "source": [
    "df[\"Type\"].unique()"
   ]
  },
  {
   "cell_type": "code",
   "execution_count": null,
   "id": "a4c216a8",
   "metadata": {},
   "outputs": [],
   "source": [
    "df[\"Type\"].isnull().sum()"
   ]
  },
  {
   "cell_type": "code",
   "execution_count": null,
   "id": "4c1653fb",
   "metadata": {},
   "outputs": [],
   "source": [
    "df.info()"
   ]
  },
  {
   "cell_type": "markdown",
   "id": "8cbdfc64",
   "metadata": {},
   "source": [
    "**Moving to Current Version**"
   ]
  },
  {
   "cell_type": "code",
   "execution_count": null,
   "id": "090b2ad2",
   "metadata": {},
   "outputs": [],
   "source": [
    "df[\"Current Ver\"].isnull().sum()"
   ]
  },
  {
   "cell_type": "code",
   "execution_count": null,
   "id": "4c0b37ad",
   "metadata": {},
   "outputs": [],
   "source": [
    "df.info()"
   ]
  },
  {
   "cell_type": "markdown",
   "id": "3dc20ec2",
   "metadata": {},
   "source": [
    "**Moving on to Android Version Column**"
   ]
  },
  {
   "cell_type": "code",
   "execution_count": null,
   "id": "4d021f83",
   "metadata": {},
   "outputs": [],
   "source": [
    "df[\"Android Ver\"].isnull().sum()"
   ]
  },
  {
   "cell_type": "code",
   "execution_count": null,
   "id": "3275e845",
   "metadata": {},
   "outputs": [],
   "source": [
    "df[\"Android Ver\"].unique()"
   ]
  },
  {
   "cell_type": "code",
   "execution_count": null,
   "id": "2800752a",
   "metadata": {},
   "outputs": [],
   "source": [
    "#Creating a function to clean Android Version"
   ]
  },
  {
   "cell_type": "code",
   "execution_count": null,
   "id": "a755a0fd",
   "metadata": {},
   "outputs": [],
   "source": [
    "#clean_Android(\"2.5 and up\")"
   ]
  },
  {
   "cell_type": "code",
   "execution_count": null,
   "id": "5bb9b977",
   "metadata": {},
   "outputs": [],
   "source": [
    "#Simplifying the Android version column"
   ]
  },
  {
   "cell_type": "code",
   "execution_count": null,
   "id": "7d3b4576",
   "metadata": {},
   "outputs": [],
   "source": [
    "#df[\"Android Ver\"]=df[\"Android Ver\"].apply(clean_Android)"
   ]
  },
  {
   "cell_type": "code",
   "execution_count": null,
   "id": "9f2c80fa",
   "metadata": {},
   "outputs": [],
   "source": [
    "df[\"Android Ver\"].unique()"
   ]
  },
  {
   "cell_type": "code",
   "execution_count": null,
   "id": "4c1771c7",
   "metadata": {},
   "outputs": [],
   "source": [
    "df[\"Android Ver\"].value_counts()"
   ]
  },
  {
   "cell_type": "code",
   "execution_count": null,
   "id": "3dea5cff",
   "metadata": {},
   "outputs": [],
   "source": [
    "df[\"Android Ver\"].isnull().sum()"
   ]
  },
  {
   "cell_type": "markdown",
   "id": "ec2c60cf",
   "metadata": {},
   "source": [
    "**Moving on to Last Updated Column**"
   ]
  },
  {
   "cell_type": "code",
   "execution_count": null,
   "id": "a505f6c2",
   "metadata": {},
   "outputs": [],
   "source": [
    "for i in df[\"Last Updated\"].unique():\n",
    "    print(i)"
   ]
  },
  {
   "cell_type": "code",
   "execution_count": null,
   "id": "739ae97e",
   "metadata": {},
   "outputs": [],
   "source": [
    "#Converting Datatype of Last Updated Column to date time format"
   ]
  },
  {
   "cell_type": "code",
   "execution_count": null,
   "id": "df6352c0",
   "metadata": {},
   "outputs": [],
   "source": [
    "df[\"Last Updated\"]=pd.to_datetime(df[\"Last Updated\"])"
   ]
  },
  {
   "cell_type": "code",
   "execution_count": null,
   "id": "395d2235",
   "metadata": {},
   "outputs": [],
   "source": [
    "df.info()"
   ]
  },
  {
   "cell_type": "markdown",
   "id": "4b0f1451",
   "metadata": {},
   "source": [
    "**Moving on to Category Column**"
   ]
  },
  {
   "cell_type": "code",
   "execution_count": null,
   "id": "ba236673",
   "metadata": {},
   "outputs": [],
   "source": [
    "df[\"Category\"].unique()"
   ]
  },
  {
   "cell_type": "code",
   "execution_count": null,
   "id": "10305203",
   "metadata": {},
   "outputs": [],
   "source": [
    "# Converting category values into tile format\n",
    "\n",
    "df[\"Category\"]=df[\"Category\"].apply(lambda x: x.title())"
   ]
  },
  {
   "cell_type": "code",
   "execution_count": null,
   "id": "1d893e80",
   "metadata": {},
   "outputs": [],
   "source": [
    "df[\"Category\"].unique()"
   ]
  },
  {
   "cell_type": "markdown",
   "id": "0384373e",
   "metadata": {},
   "source": [
    "**Moving on to Reviews Column**"
   ]
  },
  {
   "cell_type": "code",
   "execution_count": null,
   "id": "9c5ba559",
   "metadata": {},
   "outputs": [],
   "source": [
    "for i in df[\"Reviews\"].unique():\n",
    "    print(i)"
   ]
  },
  {
   "cell_type": "code",
   "execution_count": null,
   "id": "b43b6337",
   "metadata": {},
   "outputs": [],
   "source": [
    "df[\"Reviews\"].max()"
   ]
  },
  {
   "cell_type": "code",
   "execution_count": null,
   "id": "f1141621",
   "metadata": {},
   "outputs": [],
   "source": [
    "df[\"Reviews\"].min()"
   ]
  },
  {
   "cell_type": "markdown",
   "id": "ebff2540",
   "metadata": {},
   "source": [
    "**Moving on to Installs Column**"
   ]
  },
  {
   "cell_type": "code",
   "execution_count": null,
   "id": "ef3236a1",
   "metadata": {},
   "outputs": [],
   "source": [
    "for i in df[\"Installs\"].unique():\n",
    "    print(i)"
   ]
  },
  {
   "cell_type": "code",
   "execution_count": null,
   "id": "7eec237f",
   "metadata": {},
   "outputs": [],
   "source": [
    "df[\"Installs\"].max()"
   ]
  },
  {
   "cell_type": "code",
   "execution_count": null,
   "id": "8fa13504",
   "metadata": {},
   "outputs": [],
   "source": [
    "df[\"Installs\"].min()"
   ]
  },
  {
   "cell_type": "markdown",
   "id": "facfdb39",
   "metadata": {},
   "source": [
    "**Moving on to Content Ratings Column**"
   ]
  },
  {
   "cell_type": "code",
   "execution_count": null,
   "id": "d653b6ff",
   "metadata": {},
   "outputs": [],
   "source": [
    "df[\"Content Rating\"].unique()"
   ]
  },
  {
   "cell_type": "markdown",
   "id": "92bcec24",
   "metadata": {},
   "source": [
    "**Moving on to Genre Column**"
   ]
  },
  {
   "cell_type": "code",
   "execution_count": null,
   "id": "29f6b91c",
   "metadata": {},
   "outputs": [],
   "source": [
    "for i in df[\"Genres\"].unique():\n",
    "    print(i)"
   ]
  },
  {
   "cell_type": "code",
   "execution_count": null,
   "id": "6202e5c5",
   "metadata": {},
   "outputs": [],
   "source": [
    "df.head(50)"
   ]
  },
  {
   "cell_type": "code",
   "execution_count": null,
   "id": "73bda5b2",
   "metadata": {},
   "outputs": [],
   "source": [
    "for i in df[\"App\"].unique():\n",
    "    print(i)"
   ]
  },
  {
   "cell_type": "code",
   "execution_count": null,
   "id": "c1ed331b",
   "metadata": {},
   "outputs": [],
   "source": [
    "file=df.to_csv('Playstore App Dataset.csv')"
   ]
  },
  {
   "cell_type": "code",
   "execution_count": null,
   "id": "79d9dee0",
   "metadata": {},
   "outputs": [],
   "source": [
    "df.head()"
   ]
  },
  {
   "cell_type": "code",
   "execution_count": null,
   "id": "82770b3b",
   "metadata": {},
   "outputs": [],
   "source": []
  }
 ],
 "metadata": {
  "kernelspec": {
   "display_name": "Python 3 (ipykernel)",
   "language": "python",
   "name": "python3"
  },
  "language_info": {
   "codemirror_mode": {
    "name": "ipython",
    "version": 3
   },
   "file_extension": ".py",
   "mimetype": "text/x-python",
   "name": "python",
   "nbconvert_exporter": "python",
   "pygments_lexer": "ipython3",
   "version": "3.9.13"
  }
 },
 "nbformat": 4,
 "nbformat_minor": 5
}
